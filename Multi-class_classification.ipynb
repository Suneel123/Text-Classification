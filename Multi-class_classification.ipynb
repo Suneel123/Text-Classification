{
 "cells": [
  {
   "cell_type": "markdown",
   "metadata": {},
   "source": [
    "# Classification\n",
    "## BBC dataset\n",
    "Consists of 2225 documents from the BBC news website corresponding to stories in five topical areas from 2004-2005.\n",
    "Natural Classes: 5 (business, entertainment, politics, sport, tech)\n",
    "\n",
    "If you make use of the dataset, please consider citing the publication: \n",
    "- D. Greene and P. Cunningham. \"Practical Solutions to the Problem of Diagonal Dominance in Kernel Document Clustering\", Proc. ICML 2006.\n",
    "\n",
    "All rights, including copyright, in the content of the original articles are owned by the BBC.\n",
    "\n",
    "Contact Derek Greene <derek.greene@ucd.ie> for further information.\n",
    "http://mlg.ucd.ie/datasets/bbc.html\n",
    "\n",
    "### Setup "
   ]
  },
  {
   "cell_type": "code",
   "execution_count": 274,
   "metadata": {},
   "outputs": [],
   "source": [
    "import os\n",
    "import glob\n",
    "import re\n",
    "import datetime\n",
    "from collections import defaultdict, Counter\n",
    "from itertools import chain\n",
    "\n",
    "import numpy as np\n",
    "import pandas as pd\n",
    "import nltk\n",
    "import matplotlib\n",
    "import matplotlib.pyplot as plt\n",
    "plt.style.use('ggplot')\n",
    "%matplotlib inline\n",
    "from IPython.display import display\n",
    "from sklearn.feature_extraction.text import TfidfVectorizer, ENGLISH_STOP_WORDS\n",
    "from sklearn.feature_selection import SelectKBest, chi2, f_classif\n",
    "from sklearn.preprocessing import LabelBinarizer \n",
    "from sklearn.model_selection import train_test_split, cross_val_score\n",
    "from sklearn.ensemble import RandomForestClassifier\n",
    "from sklearn.svm import SVC, LinearSVC, NuSVC\n",
    "from sklearn.linear_model import LogisticRegression\n",
    "from sklearn.naive_bayes import MultinomialNB\n",
    "from sklearn.metrics import accuracy_score, classification_report\n",
    "from keras.models import Sequential, save_model, load_model\n",
    "from keras.layers import Dense, Activation, Dropout \n",
    "from utils.metrics import confusion_matrix_seaborn"
   ]
  },
  {
   "cell_type": "code",
   "execution_count": 2,
   "metadata": {},
   "outputs": [],
   "source": [
    "def dts():\n",
    "    return datetime.datetime.now().strftime('%Y%m%d_%H%M%S')"
   ]
  },
  {
   "cell_type": "code",
   "execution_count": 3,
   "metadata": {},
   "outputs": [],
   "source": [
    "import logging\n",
    "logger = logging.getLogger()\n",
    "fhandler = logging.FileHandler(filename='text_clf.log', mode='a')\n",
    "formatter = logging.Formatter('%(asctime)s - %(name)s - %(levelname)s - %(message)s')\n",
    "fhandler.setFormatter(formatter)\n",
    "logger.addHandler(fhandler)\n",
    "logger.setLevel(logging.INFO)"
   ]
  },
  {
   "cell_type": "code",
   "execution_count": 4,
   "metadata": {},
   "outputs": [],
   "source": [
    "logger.info('testing')"
   ]
  },
  {
   "cell_type": "code",
   "execution_count": 5,
   "metadata": {},
   "outputs": [],
   "source": [
    "input_folders = glob.glob('../datasets/bbc/*')"
   ]
  },
  {
   "cell_type": "code",
   "execution_count": 6,
   "metadata": {},
   "outputs": [
    {
     "data": {
      "text/plain": [
       "['../datasets/bbc/business',\n",
       " '../datasets/bbc/corpus.csv',\n",
       " '../datasets/bbc/entertainment',\n",
       " '../datasets/bbc/politics',\n",
       " '../datasets/bbc/README.TXT',\n",
       " '../datasets/bbc/sport',\n",
       " '../datasets/bbc/tech']"
      ]
     },
     "execution_count": 6,
     "metadata": {},
     "output_type": "execute_result"
    }
   ],
   "source": [
    "input_folders"
   ]
  },
  {
   "cell_type": "code",
   "execution_count": 12,
   "metadata": {},
   "outputs": [
    {
     "name": "stdout",
     "output_type": "stream",
     "text": [
      "CPU times: user 15.6 ms, sys: 281 ms, total: 297 ms\n",
      "Wall time: 302 ms\n"
     ]
    }
   ],
   "source": [
    "%%time\n",
    "# read the data for each category from the file and create a dictionary with key, the name of the category and \n",
    "# value, list of content of files of that category\n",
    "bbc_data = defaultdict(list)\n",
    "\n",
    "for folder in input_folders:\n",
    "    if os.path.isdir(folder):\n",
    "        logger.warning(f'Reading files in, {folder}')\n",
    "        category = folder.rsplit('/', 1)[1]\n",
    "        for file in glob.glob(folder + '/*'):\n",
    "            with open(file, 'r', encoding='latin-1') as file_obj:\n",
    "                bbc_data[category].append(file_obj.read())"
   ]
  },
  {
   "cell_type": "code",
   "execution_count": 13,
   "metadata": {},
   "outputs": [],
   "source": [
    "# convert defaultdict to pandas dataframe\n",
    "df = pd.DataFrame()\n",
    "\n",
    "for cat, cat_story in bbc_data.items():\n",
    "    df_dummy = pd.DataFrame()\n",
    "    df_dummy['story'] = cat_story\n",
    "    df_dummy['topic'] = cat\n",
    "    \n",
    "    df = pd.concat([df, df_dummy])"
   ]
  },
  {
   "cell_type": "code",
   "execution_count": 14,
   "metadata": {},
   "outputs": [],
   "source": [
    "df[['topic', 'story']].to_csv('../datasets/bbc/corpus.csv', index=False)"
   ]
  },
  {
   "cell_type": "code",
   "execution_count": 5,
   "metadata": {},
   "outputs": [],
   "source": [
    "df = pd.read_csv('../datasets/bbc/corpus.csv')"
   ]
  },
  {
   "cell_type": "code",
   "execution_count": 6,
   "metadata": {},
   "outputs": [],
   "source": [
    "def display_all(df):\n",
    "    with pd.option_context('display.max_colwidth', 400):\n",
    "        display(df)"
   ]
  },
  {
   "cell_type": "code",
   "execution_count": 7,
   "metadata": {},
   "outputs": [
    {
     "data": {
      "text/html": [
       "<div>\n",
       "<style scoped>\n",
       "    .dataframe tbody tr th:only-of-type {\n",
       "        vertical-align: middle;\n",
       "    }\n",
       "\n",
       "    .dataframe tbody tr th {\n",
       "        vertical-align: top;\n",
       "    }\n",
       "\n",
       "    .dataframe thead th {\n",
       "        text-align: right;\n",
       "    }\n",
       "</style>\n",
       "<table border=\"1\" class=\"dataframe\">\n",
       "  <thead>\n",
       "    <tr style=\"text-align: right;\">\n",
       "      <th></th>\n",
       "      <th>topic</th>\n",
       "      <th>story</th>\n",
       "    </tr>\n",
       "  </thead>\n",
       "  <tbody>\n",
       "    <tr>\n",
       "      <th>2220</th>\n",
       "      <td>tech</td>\n",
       "      <td>BT program to beat dialler scams\\n\\nBT is introducing two initiatives to help beat rogue dialler scams, which can cost dial-up net users thousands.\\n\\nFrom May, dial-up net users will be able to download free software to stop computers using numbers not on a user's \"pre-approved list\". Inadvertently downloaded by surfers, rogue diallers are programs which hijack modems and dial up a premium ra...</td>\n",
       "    </tr>\n",
       "    <tr>\n",
       "      <th>2221</th>\n",
       "      <td>tech</td>\n",
       "      <td>Spam e-mails tempt net shoppers\\n\\nComputer users across the world continue to ignore security warnings about spam e-mails and are being lured into buying goods, a report suggests.\\n\\nMore than a quarter have bought software through spam e-mails and 24% have bought clothes or jewellery. As well as profiting from selling goods or services and driving advertising traffic, organised crime rings c...</td>\n",
       "    </tr>\n",
       "    <tr>\n",
       "      <th>2222</th>\n",
       "      <td>tech</td>\n",
       "      <td>Be careful how you code\\n\\nA new European directive could put software writers at risk of legal action, warns former programmer and technology analyst Bill Thompson.\\n\\nIf it gets its way, the Dutch government will conclude its presidency of the European Union by pushing through a controversial measure that has been rejected by the European Parliament, lacks majority support from national gove...</td>\n",
       "    </tr>\n",
       "    <tr>\n",
       "      <th>2223</th>\n",
       "      <td>tech</td>\n",
       "      <td>US cyber security chief resigns\\n\\nThe man making sure US computer networks are safe and secure has resigned after only a year in his post.\\n\\nAmit Yoran was director of the National Cyber Security Division within the US Department of Homeland Security created following the 9/11 attacks. The division was tasked with improving US defences against malicious hackers, viruses and other net-based t...</td>\n",
       "    </tr>\n",
       "    <tr>\n",
       "      <th>2224</th>\n",
       "      <td>tech</td>\n",
       "      <td>Losing yourself in online gaming\\n\\nOnline role playing games are time-consuming, but enthralling flights from reality. But are some people taking their fantasy lives too seriously?\\n\\nWhen video game World of Warcraft hit the shops in Europe last week fans wrote in to the BBC website to express their delight - and to offer a warning. \"An addiction to a game like this is far more costly in tim...</td>\n",
       "    </tr>\n",
       "  </tbody>\n",
       "</table>\n",
       "</div>"
      ],
      "text/plain": [
       "     topic  \\\n",
       "2220  tech   \n",
       "2221  tech   \n",
       "2222  tech   \n",
       "2223  tech   \n",
       "2224  tech   \n",
       "\n",
       "                                                                                                                                                                                                                                                                                                                                                                                                                story  \n",
       "2220  BT program to beat dialler scams\\n\\nBT is introducing two initiatives to help beat rogue dialler scams, which can cost dial-up net users thousands.\\n\\nFrom May, dial-up net users will be able to download free software to stop computers using numbers not on a user's \"pre-approved list\". Inadvertently downloaded by surfers, rogue diallers are programs which hijack modems and dial up a premium ra...  \n",
       "2221  Spam e-mails tempt net shoppers\\n\\nComputer users across the world continue to ignore security warnings about spam e-mails and are being lured into buying goods, a report suggests.\\n\\nMore than a quarter have bought software through spam e-mails and 24% have bought clothes or jewellery. As well as profiting from selling goods or services and driving advertising traffic, organised crime rings c...  \n",
       "2222  Be careful how you code\\n\\nA new European directive could put software writers at risk of legal action, warns former programmer and technology analyst Bill Thompson.\\n\\nIf it gets its way, the Dutch government will conclude its presidency of the European Union by pushing through a controversial measure that has been rejected by the European Parliament, lacks majority support from national gove...  \n",
       "2223  US cyber security chief resigns\\n\\nThe man making sure US computer networks are safe and secure has resigned after only a year in his post.\\n\\nAmit Yoran was director of the National Cyber Security Division within the US Department of Homeland Security created following the 9/11 attacks. The division was tasked with improving US defences against malicious hackers, viruses and other net-based t...  \n",
       "2224  Losing yourself in online gaming\\n\\nOnline role playing games are time-consuming, but enthralling flights from reality. But are some people taking their fantasy lives too seriously?\\n\\nWhen video game World of Warcraft hit the shops in Europe last week fans wrote in to the BBC website to express their delight - and to offer a warning. \"An addiction to a game like this is far more costly in tim...  "
      ]
     },
     "metadata": {},
     "output_type": "display_data"
    }
   ],
   "source": [
    "display_all(df.tail())"
   ]
  },
  {
   "cell_type": "code",
   "execution_count": 8,
   "metadata": {},
   "outputs": [
    {
     "data": {
      "image/png": "[encoded data removed]",
      "text/plain": [
       "<Figure size 720x504 with 1 Axes>"
      ]
     },
     "metadata": {
      "needs_background": "light"
     },
     "output_type": "display_data"
    }
   ],
   "source": [
    "# Number of stories per topic \n",
    "ax = df['topic'].value_counts().plot(kind='bar', figsize=(10, 7), fontsize=13)\n",
    "ax.set_title('Stories/topic', fontsize=16)\n",
    "ax.set_xlabel('topic', fontsize=14)\n",
    "ax.set_ylabel('no. of stories', fontsize=14)\n",
    "\n",
    "for i in ax.patches:\n",
    "    ax.text(i.get_x()+.15, i.get_height()+4, i.get_height(), fontsize=12)"
   ]
  },
  {
   "cell_type": "markdown",
   "metadata": {},
   "source": [
    "+ Data is not so imbalanced, it is okay to proceed with classification. No need to upsample or downsample the data.\n",
    "+ <p style='color:darkgreen'>Different sources give different justifications on up-sampling and down-sampling. Finally, it is good to up-sample first and then down-sample, then compare the results of both.</p>"
   ]
  },
  {
   "cell_type": "code",
   "execution_count": 13,
   "metadata": {},
   "outputs": [],
   "source": [
    "def clean_text(story):\n",
    "    story = re.sub(r\"\\n+\", \". \", story)\n",
    "    story = re.sub(r\"\\'s\", \"\", story)\n",
    "    story = re.sub(r\"\\'ve\", \"\", story)\n",
    "    story = re.sub(r\"n\\'t\", \"\", story)\n",
    "    story = re.sub(r\"\\'re\", \"\", story)\n",
    "    story = re.sub(r\"\\'d\", \"\", story)\n",
    "    story = re.sub(r\"\\'ll\", \"\", story)\n",
    "    story = re.sub(r\",\", \"\", story)\n",
    "    story = re.sub(r\"!\", \" ! \", story)\n",
    "    story = re.sub(r\"\\(\", \"\", story)\n",
    "    story = re.sub(r\"\\)\", \"\", story)\n",
    "    story = re.sub(r\"\\?\", \"\", story)\n",
    "    story = re.sub(r\"'\", \"\", story)\n",
    "    story = re.sub(r\"[^A-Za-z0-9(),!?\\'\\`]\", \" \", story)\n",
    "    story = re.sub(r\"[0-9]\\w+|[0-9]\",\"\", story)\n",
    "    story = re.sub(r\"\\s{2,}\", \" \", story)\n",
    "    story = story.strip().lower()\n",
    "    story = [word for word in story.split() if word not in ENGLISH_STOP_WORDS]\n",
    "    story = ' '.join(story)\n",
    "    return story"
   ]
  },
  {
   "cell_type": "code",
   "execution_count": 14,
   "metadata": {},
   "outputs": [
    {
     "name": "stdout",
     "output_type": "stream",
     "text": [
      "ad sales boost time warner profit quarterly profits media giant timewarner jumped months december year earlier firm biggest investors google benefited sales high speed internet connections higher advert sales timewarner said fourth quarter sales rose profits buoyed gains offset profit dip warner bros users aol time warner said friday owns search engine google internet business aol mixed fortunes lost subscribers fourth quarter profits lower preceding quarters company said aol underlying profit exceptional items rose stronger internet advertising revenues hopes increase subscribers offering online service free timewarner internet customers try sign aol existing customers high speed broadband timewarner restate results following probe securities exchange commission sec close concluding time warner fourth quarter profits slightly better analysts expectations film division saw profits slump helped box office flops alexander catwoman sharp contrast year earlier final film lord rings trilogy boosted results year timewarner posted profit performance revenues grew financial performance strong meeting exceeding year objectives greatly enhancing flexibility chairman chief executive richard parsons said timewarner projecting operating earnings growth expects higher revenue wider profit margins timewarner restate accounts efforts resolve inquiry aol market regulators offered pay settle charges deal review sec company said unable estimate needed set aside legal reserves previously set intends adjust way accounts deal german music publisher bertelsmann purchase stake aol europe reported advertising revenue book sale stake aol europe loss value stake\n"
     ]
    }
   ],
   "source": [
    "print(clean_text(df['story'][0]))"
   ]
  },
  {
   "cell_type": "code",
   "execution_count": 15,
   "metadata": {},
   "outputs": [
    {
     "name": "stdout",
     "output_type": "stream",
     "text": [
      "Ad sales boost Time Warner profit\n",
      "\n",
      "Quarterly profits at US media giant TimeWarner jumped 76% to $1.13bn (Â£600m) for the three months to December, from $639m year-earlier.\n",
      "\n",
      "The firm, which is now one of the biggest investors in Google, benefited from sales of high-speed internet connections and higher advert sales. TimeWarner said fourth quarter sales rose 2% to $11.1bn from $10.9bn. Its profits were buoyed by one-off gains which offset a profit dip at Warner Bros, and less users for AOL.\n",
      "\n",
      "Time Warner said on Friday that it now owns 8% of search-engine Google. But its own internet business, AOL, had has mixed fortunes. It lost 464,000 subscribers in the fourth quarter profits were lower than in the preceding three quarters. However, the company said AOL's underlying profit before exceptional items rose 8% on the back of stronger internet advertising revenues. It hopes to increase subscribers by offering the online service free to TimeWarner internet customers and will try to sign up AOL's existing customers for high-speed broadband. TimeWarner also has to restate 2000 and 2003 results following a probe by the US Securities Exchange Commission (SEC), which is close to concluding.\n",
      "\n",
      "Time Warner's fourth quarter profits were slightly better than analysts' expectations. But its film division saw profits slump 27% to $284m, helped by box-office flops Alexander and Catwoman, a sharp contrast to year-earlier, when the third and final film in the Lord of the Rings trilogy boosted results. For the full-year, TimeWarner posted a profit of $3.36bn, up 27% from its 2003 performance, while revenues grew 6.4% to $42.09bn. \"Our financial performance was strong, meeting or exceeding all of our full-year objectives and greatly enhancing our flexibility,\" chairman and chief executive Richard Parsons said. For 2005, TimeWarner is projecting operating earnings growth of around 5%, and also expects higher revenue and wider profit margins.\n",
      "\n",
      "TimeWarner is to restate its accounts as part of efforts to resolve an inquiry into AOL by US market regulators. It has already offered to pay $300m to settle charges, in a deal that is under review by the SEC. The company said it was unable to estimate the amount it needed to set aside for legal reserves, which it previously set at $500m. It intends to adjust the way it accounts for a deal with German music publisher Bertelsmann's purchase of a stake in AOL Europe, which it had reported as advertising revenue. It will now book the sale of its stake in AOL Europe as a loss on the value of that stake.\n",
      "\n"
     ]
    }
   ],
   "source": [
    "print(df['story'][0])"
   ]
  },
  {
   "cell_type": "markdown",
   "metadata": {},
   "source": [
    "+ Cleaned text looks okay, not good though. We messed up firm names, U.S to us, percentages, currency representations e.t.c"
   ]
  },
  {
   "cell_type": "code",
   "execution_count": 16,
   "metadata": {},
   "outputs": [],
   "source": [
    "df['processed_story'] = df['story'].apply(clean_text)"
   ]
  },
  {
   "cell_type": "code",
   "execution_count": 17,
   "metadata": {},
   "outputs": [],
   "source": [
    "words_of_stories = chain.from_iterable(df['processed_story'].apply(lambda x: x.split()))"
   ]
  },
  {
   "cell_type": "code",
   "execution_count": 18,
   "metadata": {},
   "outputs": [],
   "source": [
    "word_count = Counter(words_of_stories)"
   ]
  },
  {
   "cell_type": "code",
   "execution_count": 19,
   "metadata": {},
   "outputs": [
    {
     "data": {
      "text/plain": [
       "27655"
      ]
     },
     "execution_count": 19,
     "metadata": {},
     "output_type": "execute_result"
    }
   ],
   "source": [
    "# size of vocabulary\n",
    "len(word_count)"
   ]
  },
  {
   "cell_type": "markdown",
   "metadata": {},
   "source": [
    "+ Vocabulary size with stop words and basic cleaning: 29457\n",
    "+ Vocabulary size without stop words and basic cleaning: 29160\n",
    "+ Vocabulary size with well-defined preprocessing: 27655"
   ]
  },
  {
   "cell_type": "code",
   "execution_count": 20,
   "metadata": {},
   "outputs": [
    {
     "data": {
      "text/plain": [
       "[('said', 7253),\n",
       " ('mr', 3005),\n",
       " ('year', 2309),\n",
       " ('people', 2045),\n",
       " ('new', 1978),\n",
       " ('time', 1322),\n",
       " ('world', 1201),\n",
       " ('government', 1160),\n",
       " ('uk', 1115),\n",
       " ('years', 1003)]"
      ]
     },
     "execution_count": 20,
     "metadata": {},
     "output_type": "execute_result"
    }
   ],
   "source": [
    "word_count.most_common(10)"
   ]
  },
  {
   "cell_type": "code",
   "execution_count": 21,
   "metadata": {},
   "outputs": [
    {
     "data": {
      "text/plain": [
       "LabelBinarizer(neg_label=0, pos_label=1, sparse_output=False)"
      ]
     },
     "execution_count": 21,
     "metadata": {},
     "output_type": "execute_result"
    }
   ],
   "source": [
    "lb = LabelBinarizer()\n",
    "lb.fit(df['topic'])"
   ]
  },
  {
   "cell_type": "code",
   "execution_count": 22,
   "metadata": {},
   "outputs": [
    {
     "data": {
      "text/plain": [
       "array(['business', 'entertainment', 'politics', 'sport', 'tech'],\n",
       "      dtype='<U13')"
      ]
     },
     "execution_count": 22,
     "metadata": {},
     "output_type": "execute_result"
    }
   ],
   "source": [
    "lb.classes_"
   ]
  },
  {
   "cell_type": "code",
   "execution_count": 23,
   "metadata": {},
   "outputs": [],
   "source": [
    "train, test = train_test_split(df, test_size=0.2, stratify=df['topic'], shuffle=True, random_state=1310)"
   ]
  },
  {
   "cell_type": "code",
   "execution_count": 24,
   "metadata": {},
   "outputs": [],
   "source": [
    "X_train_raw = train['processed_story'].copy()\n",
    "X_test_raw = test['processed_story'].copy()\n",
    "y_train_raw = train['topic'].copy()\n",
    "y_test_raw = test['topic'].copy()\n",
    "y_train = lb.transform(train['topic'])\n",
    "y_test = lb.transform(test['topic'])"
   ]
  },
  {
   "cell_type": "code",
   "execution_count": 176,
   "metadata": {},
   "outputs": [
    {
     "data": {
      "text/plain": [
       "(((1780,), (1780, 5)), ((445,), (445, 5)))"
      ]
     },
     "execution_count": 176,
     "metadata": {},
     "output_type": "execute_result"
    }
   ],
   "source": [
    "(X_train_raw.shape, y_train.shape), (X_test_raw.shape, y_test.shape)"
   ]
  },
  {
   "cell_type": "code",
   "execution_count": 26,
   "metadata": {},
   "outputs": [
    {
     "name": "stdout",
     "output_type": "stream",
     "text": [
      "Number of samples in the dataset (s): 2225\n",
      "Median of words per sample in the corpus (w): 175.0\n",
      "\n",
      "s/w: 12.71\n"
     ]
    }
   ],
   "source": [
    "# Choosing ML model for classification based on s/w ratio\n",
    "# No. of samples in the dataset\n",
    "s = len(df['processed_story'])\n",
    "# Get median of words per sample in the corpus \n",
    "w = np.median([len(story.split()) for story in df['processed_story']])\n",
    "print(f\"Number of samples in the dataset (s): {s}\\nMedian of words per sample in the corpus (w): {w}\\n\\ns/w: {s/w:.2f}\")"
   ]
  },
  {
   "cell_type": "markdown",
   "metadata": {},
   "source": [
    "+ We have vocabulary size of 27655. We will select top 20,000 features using statistical tests (f_classif: F-value, chi2: Chi-Square)\n",
    "+ There are other methods as well for feature selction in multi-class classification problem\n",
    "    + Variance Threshold\n",
    "    + ANOVA F-value\n",
    "    + Chi-Squared\n",
    "    + Information Gain"
   ]
  },
  {
   "cell_type": "code",
   "execution_count": 27,
   "metadata": {},
   "outputs": [],
   "source": [
    "NGRAM_RANGE = (1, 2)\n",
    "TOP_K = 20000               # top K features\n",
    "TOKEN_MODE = 'word'         # word or character n-gram \n",
    "MIN_DOCUMENT_FREQUENCY = 2  # minimum document/corpus frequency which a token will be discarded "
   ]
  },
  {
   "cell_type": "code",
   "execution_count": 223,
   "metadata": {},
   "outputs": [],
   "source": [
    "def n_gram_vectorize(X_train_raw, y_train_raw, X_test_raw, feature_slection_test=f_classif):\n",
    "    \"\"\"\n",
    "    tfidf vector length  = length of vocabulary of unigrams + bigrams\n",
    "    \n",
    "    Parameters:\n",
    "    -----------\n",
    "    X_train_raw: array of features of training examples\n",
    "    y_train_raw: array of training labels\n",
    "    X_test_raw: array of features of test examples\n",
    "    \n",
    "    Returns:\n",
    "    --------\n",
    "    X_train, X_test: vectorized training and test texts\n",
    "    \"\"\"\n",
    "    kwargs = {\n",
    "        'ngram_range': NGRAM_RANGE,\n",
    "        'dtype': np.float32, \n",
    "        'strip_accents': 'unicode',\n",
    "        'decode_error': 'replace',\n",
    "        'analyzer': TOKEN_MODE,\n",
    "        'min_df': MIN_DOCUMENT_FREQUENCY,\n",
    "    }\n",
    "    vectorizer = TfidfVectorizer(**kwargs)\n",
    "    X_train = vectorizer.fit_transform(X_train_raw)\n",
    "    X_test = vectorizer.transform(X_test_raw)\n",
    "    print(f\"Actual features: {X_train.shape[1]}\")\n",
    "    # Select top 'k' features of the vectorized features\n",
    "    selector = SelectKBest(score_func=feature_slection_test, k=min(TOP_K, X_train.shape[1]))\n",
    "    selector.fit(X_train, y_train_raw)\n",
    "    X_train = selector.transform(X_train).astype('float32')\n",
    "    X_test = selector.transform(X_test).astype('float32')\n",
    "    return X_train, X_test, vectorizer"
   ]
  },
  {
   "cell_type": "code",
   "execution_count": 224,
   "metadata": {},
   "outputs": [
    {
     "name": "stdout",
     "output_type": "stream",
     "text": [
      "Actual features: 57302\n",
      "CPU times: user 1.3 s, sys: 78.1 ms, total: 1.38 s\n",
      "Wall time: 1.37 s\n"
     ]
    }
   ],
   "source": [
    "%%time\n",
    "X_train, X_test, vectorizer = n_gram_vectorize(X_train_raw, y_train_raw, X_test_raw, feature_slection_test=chi2)"
   ]
  },
  {
   "cell_type": "markdown",
   "metadata": {},
   "source": [
    "## Top K important features of each category"
   ]
  },
  {
   "cell_type": "code",
   "execution_count": 262,
   "metadata": {},
   "outputs": [],
   "source": [
    "def top_k_correlated_features_per_category(X_train, y_train_raw, k=2):\n",
    "    \"\"\"\n",
    "    Parameters:\n",
    "    -----------\n",
    "    X_train: (n_samples, n_features), samples with their feature vectors\n",
    "    y_train_raw: (n_samples,), category of each sample\n",
    "    \"\"\"\n",
    "    for category in np.unique(y_train_raw):\n",
    "        # calculates chi2 for each feature w.r.t each category, y_train_raw == category, converts category column to boolean\n",
    "        features_chi2 = chi2(X_train, y_train_raw == category)\n",
    "        indices = np.argsort(features_chi2[0])\n",
    "        feature_names = np.array(vectorizer.get_feature_names())[indices]\n",
    "        unigrams = [feature for feature in feature_names if len(feature.split()) == 1]\n",
    "        bigrams = [feature for feature in feature_names if len(feature.split()) == 2]\n",
    "        print(f\"# {category}\")\n",
    "        print(\"  - Most correlated unigrams:\\n     *{}\".format('\\n     *'.join(unigrams[-k:])))\n",
    "        print(\"  - Most correlated bigrams:\\n     *{}\".format('\\n     *'.join(bigrams[-k:])))"
   ]
  },
  {
   "cell_type": "code",
   "execution_count": 263,
   "metadata": {},
   "outputs": [
    {
     "name": "stdout",
     "output_type": "stream",
     "text": [
      "# business\n",
      "  - Most correlated unigrams:\n",
      "     *austria\n",
      "     *brainchild\n",
      "  - Most correlated bigrams:\n",
      "     *deficit china\n",
      "     *aims cut\n",
      "# entertainment\n",
      "  - Most correlated unigrams:\n",
      "     *allowing\n",
      "     *aimed\n",
      "  - Most correlated bigrams:\n",
      "     *accept negotiations\n",
      "     *called bankash\n",
      "# politics\n",
      "  - Most correlated unigrams:\n",
      "     *attacking\n",
      "     *concept\n",
      "  - Most correlated bigrams:\n",
      "     *brian harvey\n",
      "     *amplification crystalline\n",
      "# sport\n",
      "  - Most correlated unigrams:\n",
      "     *collected\n",
      "     *beloved\n",
      "  - Most correlated bigrams:\n",
      "     *country operates\n",
      "     *british industry\n",
      "# tech\n",
      "  - Most correlated unigrams:\n",
      "     *deletion\n",
      "     *felt\n",
      "  - Most correlated bigrams:\n",
      "     *cummings head\n",
      "     *following relatively\n"
     ]
    }
   ],
   "source": [
    "top_k_correlated_features_per_category(X_train, y_train_raw, 2)"
   ]
  },
  {
   "cell_type": "markdown",
   "metadata": {},
   "source": [
    "## Fully Connected Multi-layer Perceptron"
   ]
  },
  {
   "cell_type": "code",
   "execution_count": 98,
   "metadata": {},
   "outputs": [],
   "source": [
    "def nn_model():\n",
    "    model = Sequential()\n",
    "    model.add(Dense(150, input_shape=(X_train.shape[1],), kernel_initializer='he_normal'))\n",
    "    model.add(Activation('relu'))\n",
    "    # model.add(Dense(150, kernel_initializer='he_normal'))\n",
    "    # model.add(Activation('relu'))\n",
    "    # model.add(Dense(150, kernel_initializer='he_normal'))\n",
    "    # model.add(Activation('relu'))\n",
    "    model.add(Dense(100, kernel_initializer='he_normal'))\n",
    "    model.add(Activation('relu'))\n",
    "    # model.add(Dense(50, kernel_initializer='he_normal'))\n",
    "    # model.add(Activation('relu'))\n",
    "    model.add(Dense(len(lb.classes_), kernel_initializer='he_normal'))\n",
    "    model.add(Activation('softmax'))\n",
    "    model.compile(loss='categorical_crossentropy', optimizer='adam', metrics=['accuracy'])\n",
    "    return model"
   ]
  },
  {
   "cell_type": "code",
   "execution_count": 99,
   "metadata": {},
   "outputs": [
    {
     "name": "stdout",
     "output_type": "stream",
     "text": [
      "CPU times: user 14.2 s, sys: 1.14 s, total: 15.4 s\n",
      "Wall time: 4.51 s\n"
     ]
    }
   ],
   "source": [
    "%%time\n",
    "model = nn_model()\n",
    "history = model.fit(X_train, y_train, batch_size=320, epochs=10, validation_split=0.1, verbose=0)"
   ]
  },
  {
   "cell_type": "code",
   "execution_count": 100,
   "metadata": {},
   "outputs": [
    {
     "data": {
      "image/png": "[encoded data removed]",
      "text/plain": [
       "<Figure size 576x432 with 1 Axes>"
      ]
     },
     "metadata": {
      "needs_background": "light"
     },
     "output_type": "display_data"
    }
   ],
   "source": [
    "# training accuracy\n",
    "plt.figure(figsize=(8, 6))\n",
    "plt.plot(history.history['acc'])\n",
    "plt.plot(history.history['val_acc'])\n",
    "plt.title('Model accuracy')\n",
    "plt.xlabel('Epoch')\n",
    "plt.ylabel('Accuracy')\n",
    "plt.legend(['train_acc', 'val_acc'], loc='lower right')\n",
    "plt.show()"
   ]
  },
  {
   "cell_type": "code",
   "execution_count": 101,
   "metadata": {},
   "outputs": [
    {
     "data": {
      "image/png": "[encoded data removed]",
      "text/plain": [
       "<Figure size 576x432 with 1 Axes>"
      ]
     },
     "metadata": {
      "needs_background": "light"
     },
     "output_type": "display_data"
    }
   ],
   "source": [
    "# training loss\n",
    "plt.figure(figsize=(8, 6))\n",
    "plt.plot(history.history['loss'])\n",
    "plt.plot(history.history['val_loss'])\n",
    "plt.title('Model loss')\n",
    "plt.xlabel('Epoch')\n",
    "plt.ylabel('Loss')\n",
    "plt.legend(['train_loss', 'val_loss'], loc='upper right')\n",
    "plt.show()"
   ]
  },
  {
   "cell_type": "code",
   "execution_count": 102,
   "metadata": {},
   "outputs": [
    {
     "name": "stdout",
     "output_type": "stream",
     "text": [
      "Overall accuracy of the model: 96.87%\n",
      "Accuracy at final epoch: 100.00%\n"
     ]
    }
   ],
   "source": [
    "print(f\"Overall accuracy of the model: {np.mean(history.history['acc'])*100:.2f}%\\nAccuracy at final epoch: {history.history['acc'][-1]*100:.2f}%\")"
   ]
  },
  {
   "cell_type": "code",
   "execution_count": 103,
   "metadata": {},
   "outputs": [],
   "source": [
    "scores = model.evaluate(X_test, y_test, verbose=0)"
   ]
  },
  {
   "cell_type": "code",
   "execution_count": 104,
   "metadata": {},
   "outputs": [
    {
     "name": "stdout",
     "output_type": "stream",
     "text": [
      "Test accuracy: 98.20%\n"
     ]
    }
   ],
   "source": [
    "print(f\"Test accuracy: {scores[1]*100:.2f}%\")"
   ]
  },
  {
   "cell_type": "code",
   "execution_count": 105,
   "metadata": {},
   "outputs": [],
   "source": [
    "y_pred = lb.classes_[model.predict_classes(X_test)]"
   ]
  },
  {
   "cell_type": "code",
   "execution_count": 106,
   "metadata": {},
   "outputs": [
    {
     "data": {
      "image/png": "[encoded data removed]",
      "text/plain": [
       "<Figure size 720x432 with 2 Axes>"
      ]
     },
     "metadata": {
      "needs_background": "light"
     },
     "output_type": "display_data"
    }
   ],
   "source": [
    "confusion_matrix_seaborn(y_test_raw, y_pred, lb.classes_)"
   ]
  },
  {
   "cell_type": "code",
   "execution_count": 185,
   "metadata": {},
   "outputs": [
    {
     "name": "stdout",
     "output_type": "stream",
     "text": [
      "               precision    recall  f1-score   support\n",
      "\n",
      "     business       0.97      0.99      0.98       102\n",
      "entertainment       0.96      1.00      0.98        77\n",
      "     politics       1.00      0.98      0.99        84\n",
      "        sport       0.99      0.99      0.99       102\n",
      "         tech       0.99      0.95      0.97        80\n",
      "\n",
      "    micro avg       0.98      0.98      0.98       445\n",
      "    macro avg       0.98      0.98      0.98       445\n",
      " weighted avg       0.98      0.98      0.98       445\n",
      "\n"
     ]
    }
   ],
   "source": [
    "print(classification_report(y_test_raw, y_pred))"
   ]
  },
  {
   "cell_type": "markdown",
   "metadata": {},
   "source": [
    "## Random Forest Classifier"
   ]
  },
  {
   "cell_type": "code",
   "execution_count": 164,
   "metadata": {},
   "outputs": [],
   "source": [
    "rfc = RandomForestClassifier(n_estimators=200, oob_score=True, min_samples_leaf=4, max_features=700, n_jobs=-1)"
   ]
  },
  {
   "cell_type": "code",
   "execution_count": 165,
   "metadata": {},
   "outputs": [
    {
     "name": "stdout",
     "output_type": "stream",
     "text": [
      "CPU times: user 3.33 s, sys: 31.2 ms, total: 3.36 s\n",
      "Wall time: 1.88 s\n"
     ]
    },
    {
     "data": {
      "text/plain": [
       "RandomForestClassifier(bootstrap=True, class_weight=None, criterion='gini',\n",
       "            max_depth=None, max_features=700, max_leaf_nodes=None,\n",
       "            min_impurity_decrease=0.0, min_impurity_split=None,\n",
       "            min_samples_leaf=4, min_samples_split=2,\n",
       "            min_weight_fraction_leaf=0.0, n_estimators=200, n_jobs=-1,\n",
       "            oob_score=True, random_state=None, verbose=0, warm_start=False)"
      ]
     },
     "execution_count": 165,
     "metadata": {},
     "output_type": "execute_result"
    }
   ],
   "source": [
    "%%time\n",
    "rfc.fit(X_train, y_train_raw)"
   ]
  },
  {
   "cell_type": "code",
   "execution_count": 166,
   "metadata": {},
   "outputs": [],
   "source": [
    "train_acc = rfc.score(X_train, y_train_raw)"
   ]
  },
  {
   "cell_type": "code",
   "execution_count": 167,
   "metadata": {},
   "outputs": [],
   "source": [
    "y_pred_rfc = rfc.predict(X_test)\n",
    "test_acc = accuracy_score(y_test_raw, y_pred_rfc)"
   ]
  },
  {
   "cell_type": "code",
   "execution_count": 168,
   "metadata": {},
   "outputs": [
    {
     "name": "stdout",
     "output_type": "stream",
     "text": [
      "Training accuracy: 99.21%\n",
      "Test accuracy: 95.28%\n"
     ]
    }
   ],
   "source": [
    "print(f\"Training accuracy: {train_acc*100:.2f}%\")\n",
    "print(f\"Test accuracy: {test_acc*100:.2f}%\")"
   ]
  },
  {
   "cell_type": "code",
   "execution_count": 169,
   "metadata": {},
   "outputs": [
    {
     "data": {
      "text/plain": [
       "(200, 445)"
      ]
     },
     "execution_count": 169,
     "metadata": {},
     "output_type": "execute_result"
    }
   ],
   "source": [
    "# get the predictions of each individual tree on each sample\n",
    "test_preds = np.stack([tree.predict(X_test) for tree in rfc.estimators_])\n",
    "test_preds.shape"
   ]
  },
  {
   "cell_type": "code",
   "execution_count": 247,
   "metadata": {},
   "outputs": [
    {
     "data": {
      "image/png": "[encoded data removed]",
      "text/plain": [
       "<Figure size 720x432 with 2 Axes>"
      ]
     },
     "metadata": {
      "needs_background": "light"
     },
     "output_type": "display_data"
    }
   ],
   "source": [
    "confusion_matrix_seaborn(y_test_raw, y_pred_rfc, lb.classes_)"
   ]
  },
  {
   "cell_type": "code",
   "execution_count": 187,
   "metadata": {},
   "outputs": [
    {
     "name": "stdout",
     "output_type": "stream",
     "text": [
      "               precision    recall  f1-score   support\n",
      "\n",
      "     business       0.94      0.96      0.95       102\n",
      "entertainment       0.95      0.95      0.95        77\n",
      "     politics       0.95      0.95      0.95        84\n",
      "        sport       0.94      0.99      0.97       102\n",
      "         tech       0.99      0.90      0.94        80\n",
      "\n",
      "    micro avg       0.95      0.95      0.95       445\n",
      "    macro avg       0.95      0.95      0.95       445\n",
      " weighted avg       0.95      0.95      0.95       445\n",
      "\n"
     ]
    }
   ],
   "source": [
    "print(classification_report(y_test_raw, y_pred_rfc))"
   ]
  },
  {
   "cell_type": "markdown",
   "metadata": {},
   "source": [
    "## Logistic Regression, Multinomial Naive Bayes, Linear SVC, Random Forest Classifier"
   ]
  },
  {
   "cell_type": "code",
   "execution_count": 312,
   "metadata": {},
   "outputs": [
    {
     "name": "stderr",
     "output_type": "stream",
     "text": [
      "/home/suneel/miniconda3/envs/nlp/lib/python3.6/site-packages/sklearn/linear_model/logistic.py:433: FutureWarning: Default solver will be changed to 'lbfgs' in 0.22. Specify a solver to silence this warning.\n",
      "  FutureWarning)\n",
      "/home/suneel/miniconda3/envs/nlp/lib/python3.6/site-packages/sklearn/linear_model/logistic.py:460: FutureWarning: Default multi_class will be changed to 'auto' in 0.22. Specify the multi_class option to silence this warning.\n",
      "  \"this warning.\", FutureWarning)\n",
      "/home/suneel/miniconda3/envs/nlp/lib/python3.6/site-packages/sklearn/linear_model/logistic.py:1297: UserWarning: 'n_jobs' > 1 does not have any effect when 'solver' is set to 'liblinear'. Got 'n_jobs' = 2.\n",
      "  \" = {}.\".format(effective_n_jobs(self.n_jobs)))\n",
      "/home/suneel/miniconda3/envs/nlp/lib/python3.6/site-packages/sklearn/linear_model/logistic.py:433: FutureWarning: Default solver will be changed to 'lbfgs' in 0.22. Specify a solver to silence this warning.\n",
      "  FutureWarning)\n",
      "/home/suneel/miniconda3/envs/nlp/lib/python3.6/site-packages/sklearn/linear_model/logistic.py:460: FutureWarning: Default multi_class will be changed to 'auto' in 0.22. Specify the multi_class option to silence this warning.\n",
      "  \"this warning.\", FutureWarning)\n",
      "/home/suneel/miniconda3/envs/nlp/lib/python3.6/site-packages/sklearn/linear_model/logistic.py:1297: UserWarning: 'n_jobs' > 1 does not have any effect when 'solver' is set to 'liblinear'. Got 'n_jobs' = 2.\n",
      "  \" = {}.\".format(effective_n_jobs(self.n_jobs)))\n",
      "/home/suneel/miniconda3/envs/nlp/lib/python3.6/site-packages/sklearn/linear_model/logistic.py:433: FutureWarning: Default solver will be changed to 'lbfgs' in 0.22. Specify a solver to silence this warning.\n",
      "  FutureWarning)\n",
      "/home/suneel/miniconda3/envs/nlp/lib/python3.6/site-packages/sklearn/linear_model/logistic.py:460: FutureWarning: Default multi_class will be changed to 'auto' in 0.22. Specify the multi_class option to silence this warning.\n",
      "  \"this warning.\", FutureWarning)\n",
      "/home/suneel/miniconda3/envs/nlp/lib/python3.6/site-packages/sklearn/linear_model/logistic.py:1297: UserWarning: 'n_jobs' > 1 does not have any effect when 'solver' is set to 'liblinear'. Got 'n_jobs' = 2.\n",
      "  \" = {}.\".format(effective_n_jobs(self.n_jobs)))\n",
      "/home/suneel/miniconda3/envs/nlp/lib/python3.6/site-packages/sklearn/linear_model/logistic.py:433: FutureWarning: Default solver will be changed to 'lbfgs' in 0.22. Specify a solver to silence this warning.\n",
      "  FutureWarning)\n",
      "/home/suneel/miniconda3/envs/nlp/lib/python3.6/site-packages/sklearn/linear_model/logistic.py:460: FutureWarning: Default multi_class will be changed to 'auto' in 0.22. Specify the multi_class option to silence this warning.\n",
      "  \"this warning.\", FutureWarning)\n",
      "/home/suneel/miniconda3/envs/nlp/lib/python3.6/site-packages/sklearn/linear_model/logistic.py:1297: UserWarning: 'n_jobs' > 1 does not have any effect when 'solver' is set to 'liblinear'. Got 'n_jobs' = 2.\n",
      "  \" = {}.\".format(effective_n_jobs(self.n_jobs)))\n",
      "/home/suneel/miniconda3/envs/nlp/lib/python3.6/site-packages/sklearn/linear_model/logistic.py:433: FutureWarning: Default solver will be changed to 'lbfgs' in 0.22. Specify a solver to silence this warning.\n",
      "  FutureWarning)\n",
      "/home/suneel/miniconda3/envs/nlp/lib/python3.6/site-packages/sklearn/linear_model/logistic.py:460: FutureWarning: Default multi_class will be changed to 'auto' in 0.22. Specify the multi_class option to silence this warning.\n",
      "  \"this warning.\", FutureWarning)\n",
      "/home/suneel/miniconda3/envs/nlp/lib/python3.6/site-packages/sklearn/linear_model/logistic.py:1297: UserWarning: 'n_jobs' > 1 does not have any effect when 'solver' is set to 'liblinear'. Got 'n_jobs' = 2.\n",
      "  \" = {}.\".format(effective_n_jobs(self.n_jobs)))\n"
     ]
    },
    {
     "name": "stdout",
     "output_type": "stream",
     "text": [
      "CPU times: user 17.4 s, sys: 58 s, total: 1min 15s\n",
      "Wall time: 1min 54s\n"
     ]
    }
   ],
   "source": [
    "%%time\n",
    "models = [RandomForestClassifier(n_estimators=200, oob_score=True, n_jobs=-1),\n",
    "          LogisticRegression(random_state=1310, n_jobs=-1), \n",
    "          LinearSVC(random_state=1310),\n",
    "          MultinomialNB()]\n",
    "\n",
    "CV = 5\n",
    "cv_df = pd.DataFrame(index=range(CV * len(models)))\n",
    "entries = []\n",
    "for model in models:\n",
    "    model_name = model.__class__.__name__\n",
    "    accuracies = cross_val_score(model, \n",
    "                                 np.concatenate((X_train.toarray(), X_test.toarray())), np.concatenate((y_train_raw.values, y_test_raw.values)), \n",
    "                                 cv=CV, scoring='accuracy')\n",
    "    for fold_idx, accuracy in enumerate(accuracies):\n",
    "        entries.append((model_name, fold_idx, accuracy))\n",
    "        \n",
    "cv_df = pd.DataFrame(entries, columns=['model_name', 'fold_idx', 'accuracy'])"
   ]
  },
  {
   "cell_type": "code",
   "execution_count": 313,
   "metadata": {},
   "outputs": [
    {
     "data": {
      "text/plain": [
       "model_name\n",
       "LinearSVC                 0.982933\n",
       "LogisticRegression        0.975739\n",
       "MultinomialNB             0.973929\n",
       "RandomForestClassifier    0.966295\n",
       "Name: accuracy, dtype: float64"
      ]
     },
     "execution_count": 313,
     "metadata": {},
     "output_type": "execute_result"
    }
   ],
   "source": [
    "cv_df.groupby('model_name')['accuracy'].mean()"
   ]
  },
  {
   "cell_type": "code",
   "execution_count": 314,
   "metadata": {},
   "outputs": [],
   "source": [
    "lsvc = LinearSVC()\n",
    "lsvc.fit(X_train, y_train_raw)\n",
    "y_pred_lsvc = lsvc.predict(X_test)"
   ]
  },
  {
   "cell_type": "code",
   "execution_count": 318,
   "metadata": {},
   "outputs": [],
   "source": [
    "train_acc_lsvc = lsvc.score(X_train, y_train_raw)\n",
    "test_acc_lsvc = accuracy_score(y_test_raw, y_pred_lsvc)"
   ]
  },
  {
   "cell_type": "code",
   "execution_count": 319,
   "metadata": {},
   "outputs": [
    {
     "name": "stdout",
     "output_type": "stream",
     "text": [
      "Training accuracy: 100.00%\n",
      "Test accuracy: 98.43%\n"
     ]
    }
   ],
   "source": [
    "print(f\"Training accuracy: {train_acc_lsvc*100:.2f}%\")\n",
    "print(f\"Test accuracy: {test_acc_lsvc*100:.2f}%\")"
   ]
  },
  {
   "cell_type": "code",
   "execution_count": 317,
   "metadata": {},
   "outputs": [
    {
     "data": {
      "image/png": "[encoded data removed]",
      "text/plain": [
       "<Figure size 720x432 with 2 Axes>"
      ]
     },
     "metadata": {
      "needs_background": "light"
     },
     "output_type": "display_data"
    }
   ],
   "source": [
    "confusion_matrix_seaborn(y_test_raw, y_pred_lsvc, classes=lb.classes_)"
   ]
  },
  {
   "cell_type": "code",
   "execution_count": 320,
   "metadata": {},
   "outputs": [
    {
     "name": "stdout",
     "output_type": "stream",
     "text": [
      "               precision    recall  f1-score   support\n",
      "\n",
      "     business       0.99      0.97      0.98       102\n",
      "entertainment       0.99      0.99      0.99        77\n",
      "     politics       0.98      0.99      0.98        84\n",
      "        sport       0.99      0.99      0.99       102\n",
      "         tech       0.98      0.99      0.98        80\n",
      "\n",
      "    micro avg       0.98      0.98      0.98       445\n",
      "    macro avg       0.98      0.98      0.98       445\n",
      " weighted avg       0.98      0.98      0.98       445\n",
      "\n"
     ]
    }
   ],
   "source": [
    "print(classification_report(y_test_raw, y_pred_lsvc))"
   ]
  },
  {
   "cell_type": "code",
   "execution_count": null,
   "metadata": {},
   "outputs": [],
   "source": []
  },
  {
   "cell_type": "code",
   "execution_count": null,
   "metadata": {},
   "outputs": [],
   "source": []
  },
  {
   "cell_type": "markdown",
   "metadata": {},
   "source": [
    "## References:\n",
    "+ Some part of tokenization is taken from, https://github.com/yoonkim/CNN_sentence/blob/master/process_data.py\n",
    "+ https://developers.google.com/machine-learning/guides/text-classification/\n",
    "+ http://blog.kaggle.com/2016/07/21/approaching-almost-any-machine-learning-problem-abhishek-thakur/\n",
    "+ https://www.kaggle.com/abhishek/approaching-almost-any-nlp-problem-on-kaggle"
   ]
  },
  {
   "cell_type": "code",
   "execution_count": null,
   "metadata": {},
   "outputs": [],
   "source": []
  }
 ],
 "metadata": {
  "kernelspec": {
   "display_name": "Python 3",
   "language": "python",
   "name": "python3"
  },
  "language_info": {
   "codemirror_mode": {
    "name": "ipython",
    "version": 3
   },
   "file_extension": ".py",
   "mimetype": "text/x-python",
   "name": "python",
   "nbconvert_exporter": "python",
   "pygments_lexer": "ipython3",
   "version": "3.6.7"
  }
 },
 "nbformat": 4,
 "nbformat_minor": 2
}
